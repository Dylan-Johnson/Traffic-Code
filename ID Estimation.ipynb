{
 "cells": [
  {
   "cell_type": "code",
   "execution_count": 19,
   "id": "ccbefcee-1fce-4626-8a72-05843240a099",
   "metadata": {},
   "outputs": [],
   "source": [
    "# Fundamental classes\n",
    "import numpy as np \n",
    "import pandas as pd \n",
    "import tensorflow as tf\n",
    "import os\n",
    "\n",
    "# Image related\n",
    "import cv2\n",
    "from PIL import Image\n",
    "\n",
    "#Performance Plot\n",
    "from sklearn import metrics \n",
    "from sklearn.metrics import f1_score, accuracy_score,confusion_matrix,classification_report\n",
    "from sklearn.metrics import precision_recall_fscore_support as score\n",
    "import matplotlib.pyplot as plt\n",
    "import seaborn as sns\n",
    "%matplotlib inline\n",
    "\n",
    "# For the model and it's training\n",
    "from sklearn.model_selection import train_test_split\n",
    "from tensorflow.keras.utils import to_categorical\n",
    "from tensorflow.keras.models import Sequential, load_model\n",
    "from tensorflow.keras.layers import Conv2D, MaxPool2D, Dense, Flatten, Dropout\n",
    "\n",
    "# Time\n",
    "import time\n",
    "import datetime\n",
    "\n",
    "# ID Estimation\n",
    "import skdim"
   ]
  },
  {
   "cell_type": "code",
   "execution_count": 20,
   "id": "b037deea-076b-4a2d-9ab8-16648cc58826",
   "metadata": {},
   "outputs": [],
   "source": [
    "# Setting variables for later use\n",
    "data = []\n",
    "labels = []\n",
    "classes = 43\n",
    "cur_path = os.getcwd()\n",
    "\n",
    "# Retrieving the images and their labels \n",
    "for i in range(classes):\n",
    "    path = os.path.join('../Traffic Dataset/','Train',str(i))\n",
    "    images = os.listdir(path)\n",
    "\n",
    "    for a in images:\n",
    "        try:\n",
    "            image = Image.open(path + '/'+ a)\n",
    "            image = image.resize((30,30))\n",
    "            image = np.array(image)\n",
    "            #sim = Image.fromarray(image)\n",
    "            data.append(image)\n",
    "            labels.append(i)\n",
    "        except:\n",
    "            print(\"Error loading image\")\n",
    "\n",
    "# Converting lists into numpy arrays\n",
    "data = np.array(data)\n",
    "labels = np.array(labels)"
   ]
  },
  {
   "cell_type": "code",
   "execution_count": 21,
   "id": "d1c8fa93-b9e3-4ab7-bd64-567a2b2fbfcf",
   "metadata": {},
   "outputs": [],
   "source": [
    "import pickle\n",
    "\n",
    "with open('clean_data.pkl', 'wb') as f:\n",
    "    pickle.dump(data, f)\n",
    "f.close()\n",
    "\n",
    "with open('clean_labels.pkl', 'wb') as f:\n",
    "    pickle.dump(labels, f)\n",
    "f.close()"
   ]
  },
  {
   "cell_type": "code",
   "execution_count": 22,
   "id": "398a21dc-ab78-4a3e-8f89-d8a7c5269ae5",
   "metadata": {},
   "outputs": [
    {
     "name": "stdout",
     "output_type": "stream",
     "text": [
      "4\n"
     ]
    }
   ],
   "source": [
    "flat_data = [d.reshape(-1) for d in data]\n",
    "\n",
    "print(skdim.id.lPCA(verbose=True).fit(flat_data).dimension_)"
   ]
  },
  {
   "cell_type": "code",
   "execution_count": 23,
   "id": "408d2e6c-a63a-46e6-95d9-3b3c84eafadc",
   "metadata": {},
   "outputs": [
    {
     "name": "stdout",
     "output_type": "stream",
     "text": [
      "0 4.564238096227063\n",
      "1 8.902707930122515\n",
      "2 8.509039932430452\n",
      "3 7.630753828496675\n",
      "4 7.6572867664948845\n",
      "5 6.793182310169665\n",
      "6 5.201845344024814\n",
      "7 7.046582419414737\n",
      "8 6.67041033603858\n",
      "9 7.843303688275782\n",
      "10 7.562430961769586\n",
      "11 9.269933158251245\n",
      "12 9.269631370441747\n",
      "13 8.521716509281017\n",
      "14 7.9005785242994655\n",
      "15 6.142709540320044\n",
      "16 3.3655631672796233\n",
      "17 6.551689056724996\n",
      "18 7.029904734326625\n",
      "19 3.3039107233342375\n",
      "20 3.9837885451422594\n",
      "21 4.34353316871272\n",
      "22 4.5255329158443836\n",
      "23 5.207518714763728\n",
      "24 4.6333307283762615\n",
      "25 8.989592510572077\n",
      "26 6.0628078298234005\n",
      "27 4.847894244879138\n",
      "28 5.639532110881051\n",
      "29 5.838899167529944\n",
      "30 4.247222227634027\n",
      "31 5.194979054359998\n",
      "32 3.5860168225007336\n",
      "33 6.642381822577672\n",
      "34 4.603650488019624\n",
      "35 8.09612492365622\n",
      "36 5.923732731638271\n",
      "37 5.446554114786089\n",
      "38 9.261466785874548\n",
      "39 3.6640339497765293\n",
      "40 4.678454653893281\n",
      "41 2.8819008528334114\n",
      "42 4.37750411831878\n",
      "6.102648160002741\n"
     ]
    }
   ],
   "source": [
    "run_sum = 0\n",
    "\n",
    "for label in range(0,43):\n",
    "    class_data = data[labels==label]\n",
    "    flat_data = [d.reshape(-1) for d in class_data]\n",
    "    mom = skdim.id.MOM().fit(flat_data, n_jobs=-1)\n",
    "    print(label, mom.dimension_)\n",
    "    run_sum += mom.dimension_\n",
    "print(run_sum/43)"
   ]
  },
  {
   "cell_type": "code",
   "execution_count": null,
   "id": "5ac1b8de-06f9-4efd-8e34-87fa6e2af7e7",
   "metadata": {},
   "outputs": [],
   "source": [
    "# MOM estimates for the entire dataset ~13.57858659140879"
   ]
  }
 ],
 "metadata": {
  "kernelspec": {
   "display_name": "Python 3 (ipykernel)",
   "language": "python",
   "name": "python3"
  },
  "language_info": {
   "codemirror_mode": {
    "name": "ipython",
    "version": 3
   },
   "file_extension": ".py",
   "mimetype": "text/x-python",
   "name": "python",
   "nbconvert_exporter": "python",
   "pygments_lexer": "ipython3",
   "version": "3.9.18"
  }
 },
 "nbformat": 4,
 "nbformat_minor": 5
}
