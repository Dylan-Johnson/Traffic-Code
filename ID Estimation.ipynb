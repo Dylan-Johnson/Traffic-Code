{
 "cells": [
  {
   "cell_type": "code",
   "execution_count": 1,
   "id": "ccbefcee-1fce-4626-8a72-05843240a099",
   "metadata": {},
   "outputs": [
    {
     "name": "stdout",
     "output_type": "stream",
     "text": [
      "WARNING:tensorflow:From C:\\Users\\dylan\\anaconda3\\envs\\ml-env\\lib\\site-packages\\keras\\src\\losses.py:2976: The name tf.losses.sparse_softmax_cross_entropy is deprecated. Please use tf.compat.v1.losses.sparse_softmax_cross_entropy instead.\n",
      "\n"
     ]
    }
   ],
   "source": [
    "# Fundamental classes\n",
    "import numpy as np \n",
    "import pandas as pd \n",
    "import tensorflow as tf\n",
    "import os\n",
    "\n",
    "# Image related\n",
    "import cv2\n",
    "from PIL import Image\n",
    "\n",
    "#Performance Plot\n",
    "from sklearn import metrics \n",
    "from sklearn.metrics import f1_score, accuracy_score,confusion_matrix,classification_report\n",
    "from sklearn.metrics import precision_recall_fscore_support as score\n",
    "import matplotlib.pyplot as plt\n",
    "import seaborn as sns\n",
    "%matplotlib inline\n",
    "\n",
    "# For the model and it's training\n",
    "from sklearn.model_selection import train_test_split\n",
    "from tensorflow.keras.utils import to_categorical\n",
    "from tensorflow.keras.models import Sequential, load_model\n",
    "from tensorflow.keras.layers import Conv2D, MaxPool2D, Dense, Flatten, Dropout\n",
    "\n",
    "# Time\n",
    "import time\n",
    "import datetime\n",
    "\n",
    "# ID Estimation\n",
    "import skdim"
   ]
  },
  {
   "cell_type": "code",
   "execution_count": 2,
   "id": "b037deea-076b-4a2d-9ab8-16648cc58826",
   "metadata": {},
   "outputs": [],
   "source": [
    "# Setting variables for later use\n",
    "data = []\n",
    "labels = []\n",
    "classes = 43\n",
    "cur_path = os.getcwd()\n",
    "\n",
    "# Retrieving the images and their labels \n",
    "for i in range(classes):\n",
    "    path = os.path.join('../Traffic Dataset/','Train',str(i))\n",
    "    images = os.listdir(path)\n",
    "\n",
    "    for a in images:\n",
    "        try:\n",
    "            image = Image.open(path + '/'+ a)\n",
    "            image = image.resize((30,30))\n",
    "            image = np.array(image)\n",
    "            #sim = Image.fromarray(image)\n",
    "            data.append(image)\n",
    "            labels.append(i)\n",
    "        except:\n",
    "            print(\"Error loading image\")\n",
    "\n",
    "# Converting lists into numpy arrays\n",
    "data = np.array(data)\n",
    "labels = np.array(labels)"
   ]
  },
  {
   "cell_type": "code",
   "execution_count": 3,
   "id": "68c98df5-1623-4666-bd51-6dacb728af6d",
   "metadata": {},
   "outputs": [
    {
     "data": {
      "text/plain": [
       "array([75, 78, 80, ..., 90, 97, 89], dtype=uint8)"
      ]
     },
     "execution_count": 3,
     "metadata": {},
     "output_type": "execute_result"
    }
   ],
   "source": [
    "flat_data = [d.reshape(-1) for d in data]\n",
    "flat_data[0]"
   ]
  },
  {
   "cell_type": "code",
   "execution_count": 4,
   "id": "cf495f95-0629-422d-bfb1-c6e05e0c70ac",
   "metadata": {},
   "outputs": [],
   "source": [
    "#lpca = skdim.id.lPCA(verbose=True).fit(flat_data)"
   ]
  },
  {
   "cell_type": "code",
   "execution_count": 5,
   "id": "176a0759-a650-48ce-912d-9fd5938fd329",
   "metadata": {},
   "outputs": [],
   "source": [
    "#lpca.dimension_"
   ]
  },
  {
   "cell_type": "code",
   "execution_count": 7,
   "id": "161b435a-042f-4b80-9565-deef60a4d3d2",
   "metadata": {},
   "outputs": [],
   "source": [
    "mom = skdim.id.MOM().fit(flat_data, n_jobs=-1)"
   ]
  },
  {
   "cell_type": "code",
   "execution_count": 8,
   "id": "a565d33f-da2a-4bdc-92bf-ee79cfa671a0",
   "metadata": {},
   "outputs": [
    {
     "data": {
      "text/plain": [
       "13.57858659140879"
      ]
     },
     "execution_count": 8,
     "metadata": {},
     "output_type": "execute_result"
    }
   ],
   "source": [
    "mom.dimension_"
   ]
  },
  {
   "cell_type": "code",
   "execution_count": null,
   "id": "377e3589-a6c0-4b84-b0cf-dab70163cb0e",
   "metadata": {},
   "outputs": [],
   "source": []
  }
 ],
 "metadata": {
  "kernelspec": {
   "display_name": "Python 3 (ipykernel)",
   "language": "python",
   "name": "python3"
  },
  "language_info": {
   "codemirror_mode": {
    "name": "ipython",
    "version": 3
   },
   "file_extension": ".py",
   "mimetype": "text/x-python",
   "name": "python",
   "nbconvert_exporter": "python",
   "pygments_lexer": "ipython3",
   "version": "3.9.18"
  }
 },
 "nbformat": 4,
 "nbformat_minor": 5
}
